{
 "cells": [
  {
   "cell_type": "markdown",
   "metadata": {},
   "source": [
    "# COGS 18 - Final Project"
   ]
  },
  {
   "cell_type": "markdown",
   "metadata": {},
   "source": [
    "## Description\n",
    "This is a chat bot uses many of the basic functions from A3 Chatbot. Although it uses lots of functions we wrote in A3 it behaves differently from the one we made. What makes this chat bot different from the one in assignment 3 is how it web scrapes information from the website 'https://steamcharts.com/ '. This website has information about all the top played games on Steam. \n",
    "\n",
    "Steam is a video game digital distribution service by the company Valve where users can buy and play video games in the Steam library. Steam collects data on how many users are playing games on their service. The website that I web scraped is a website that is not affiliated with Steam, but neatly shows information about every game on Steam. The point of this chat bot is to know information about how popular specific games on the Steam platform are doing.\n",
    "\n",
    "When asked to input a game name the program will output a good amount of information including:\n",
    "- Current players playing at the given moment\n",
    "- Peak amount of players throughout the current day\n",
    "- Total number of hours Steam users in total played the game in 30 days\n",
    "\n",
    "## Examples:\n",
    "Here are some of the more popular games avaliable on Steam if you want to check out the statistics on them:\n",
    "\n",
    "- Counter-Strike: Global Offensive\n",
    "- Dota 2\n",
    "- PLAYERUNKNOWN'S BATTLEGROUNDS\n",
    "- Destiny 2\n",
    "\n",
    "## Notes to consider:\n",
    "- **When you run (from my_module.SteamChart_functions import *) and the pytest, it will take a couple seconds before you can run the have_a_chat function to run due to parsing through 20 web pages.**\n",
    "    - **Please be patient and give the code time to run.**\n",
    "\n",
    "- **Please note that the user MUST input the exact name of the game title from Steam.**\n",
    "\n",
    "- **If the data that the bot outputs doesn't correlate with the steamcharts website then restart your notebook and try again.**\n",
    "\n",
    "- **This project requires 'requests' and 'numpy'**"
   ]
  },
  {
   "cell_type": "markdown",
   "metadata": {},
   "source": [
    "## Setup"
   ]
  },
  {
   "cell_type": "code",
   "execution_count": 1,
   "metadata": {
    "scrolled": true
   },
   "outputs": [],
   "source": [
    "from my_module.SteamChart_functions import *\n",
    "from my_module.test_functions import *"
   ]
  },
  {
   "cell_type": "markdown",
   "metadata": {},
   "source": [
    "## Code testing"
   ]
  },
  {
   "cell_type": "markdown",
   "metadata": {},
   "source": [
    "The run_all_tests function runs through all of the tests used on the functions in SteamChart_functions"
   ]
  },
  {
   "cell_type": "code",
   "execution_count": 2,
   "metadata": {},
   "outputs": [],
   "source": [
    "run_all_tests()"
   ]
  },
  {
   "cell_type": "markdown",
   "metadata": {},
   "source": [
    "## Pytest"
   ]
  },
  {
   "cell_type": "markdown",
   "metadata": {},
   "source": [
    "Pytest **WILL** take a few seconds for it to finish running. Please be patient. If downloaded from GitHub, create an empty py file named init.py in the my_module folder (2 underscores before and after init)."
   ]
  },
  {
   "cell_type": "code",
   "execution_count": 3,
   "metadata": {},
   "outputs": [
    {
     "name": "stdout",
     "output_type": "stream",
     "text": [
      "============================= test session starts =============================\n",
      "platform win32 -- Python 3.7.4, pytest-5.2.1, py-1.8.0, pluggy-0.13.0\n",
      "rootdir: C:\\Users\\marco\\OneDrive\\Documents\\UCSD\\Cogs18\\VideoGame_ChatBot\n",
      "plugins: hypothesis-5.11.0, arraydiff-0.3, astropy-header-0.1.2, doctestplus-0.4.0, openfiles-0.4.0, remotedata-0.3.2\n",
      "collected 12 items\n",
      "\n",
      "my_module\\test_functions.py ............                                 [100%]\n",
      "\n",
      "============================== warnings summary ===============================\n",
      "C:\\Users\\marco\\OneDrive\\Documents\\Anaconda\\lib\\site-packages\\html5lib\\_trie\\_base.py:3\n",
      "  C:\\Users\\marco\\OneDrive\\Documents\\Anaconda\\lib\\site-packages\\html5lib\\_trie\\_base.py:3: DeprecationWarning: Using or importing the ABCs from 'collections' instead of from 'collections.abc' is deprecated, and in 3.8 it will stop working\n",
      "    from collections import Mapping\n",
      "\n",
      "-- Docs: https://docs.pytest.org/en/latest/warnings.html\n",
      "======================= 12 passed, 1 warnings in 4.27s ========================\n"
     ]
    }
   ],
   "source": [
    "!pytest ./my_module/test_functions.py"
   ]
  },
  {
   "cell_type": "markdown",
   "metadata": {},
   "source": [
    "## Chat bot"
   ]
  },
  {
   "cell_type": "markdown",
   "metadata": {},
   "source": [
    "The have_a_chat function is the main function for the chat bot where the user can interact with the chat bot"
   ]
  },
  {
   "cell_type": "code",
   "execution_count": null,
   "metadata": {},
   "outputs": [
    {
     "name": "stdout",
     "output_type": "stream",
     "text": [
      "Welcome to the Steam charts bot! \n",
      "I love to track the data on all of the\n",
      "top 500 games people are playing right now on Steam!!!\n",
      "Input a video game that is avaliable on Steam.\n",
      "\n",
      "If you would like to load\n",
      "a list of all Steam games please type 'games'\n",
      "\n",
      "INPUT :\thi\n",
      "OUTPUT: Hello, got any games you want information on?\n",
      "INPUT :\tGOG\n",
      "***NOTICE*** If you would like to exit the chat type 'exit'\n",
      "\n",
      "OUTPUT: Why are you mentioning other platforms\n",
      "INPUT :\tgames\n",
      "OUTPUT: Have fun looking at the list of Steam games.\n",
      "INPUT :\tKojima\n",
      "OUTPUT: Hideo Kojima is a video game developer\n",
      "INPUT :\tDota 2\n",
      "OUTPUT: Looks like Dota 2 is in the top 500 charts right now!\n",
      "OUTPUT: There are also 314979 players playing currently\n",
      "OUTPUT: The peak amount of players logged on today is 793135\n",
      "OUTPUT: In the past 30 days people have played for 339481892 hours \n",
      "\n",
      "OUTPUT: You know you can type 'games' for a list of games on Steam if you're lost...\n"
     ]
    }
   ],
   "source": [
    "have_a_chat()"
   ]
  },
  {
   "cell_type": "markdown",
   "metadata": {},
   "source": [
    "#### Extra Credit (*optional*)\n",
    "\n",
    "Replace all of this text with a brief explanation (~3 sentences) of: \n",
    "1. I had no Python experience before taking this course. I have had experience taking courses in C++ and Assembly Language at my community college as well as Java in high-school.\n",
    "2. I learned how to do web scraping which is something that wasn't taught throughout the quarter. It was difficult to figure out how to do some data cleaning in order to extract the data I wanted to use for the chat bot. The most difficult part though was being able to scrape through multiple pages and accurately scraping the data needed from each page."
   ]
  }
 ],
 "metadata": {
  "kernelspec": {
   "display_name": "Python 3",
   "language": "python",
   "name": "python3"
  },
  "language_info": {
   "codemirror_mode": {
    "name": "ipython",
    "version": 3
   },
   "file_extension": ".py",
   "mimetype": "text/x-python",
   "name": "python",
   "nbconvert_exporter": "python",
   "pygments_lexer": "ipython3",
   "version": "3.7.4"
  }
 },
 "nbformat": 4,
 "nbformat_minor": 2
}
