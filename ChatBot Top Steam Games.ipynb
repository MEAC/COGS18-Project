{
 "cells": [
  {
   "cell_type": "markdown",
   "metadata": {},
   "source": [
    "# COGS 18: Steam Charts Chat Bot"
   ]
  },
  {
   "cell_type": "markdown",
   "metadata": {},
   "source": [
    "## Description\n",
    "This is a chat bot uses many of the basic functions from A3 Chatbot. Although it uses lots of functions we wrote in A3 it behaves differently from the one we made. What makes this chat bot different from the one in assignment 3 is how it web scrapes information from the website 'https://steamcharts.com/ '. This website has information about all the top played games on Steam. \n",
    "\n",
    "Steam is a video game digital distribution service by the company Valve where users can buy and play video games in the Steam library. Steam collects data on how many users are playing games on their service. The website that I web scraped is a website that is not affiliated with Steam, but neatly shows information about every game on Steam. The point of this chat bot is to know information about how popular specific games on the Steam platform are doing.\n",
    "\n",
    "When asked to input a game name the program will output a good amount of information including:\n",
    "- Current players playing at the given moment\n",
    "- Peak amount of players throughout the current day\n",
    "- Total number of hours Steam users in total played the game in 30 days\n",
    "\n",
    "## Examples:\n",
    "Here are some of the more popular games avaliable on Steam if you want to check out the statistics on them:\n",
    "\n",
    "- Counter-Strike: Global Offensive\n",
    "- Dota 2\n",
    "- PLAYERUNKNOWN'S BATTLEGROUNDS\n",
    "- Destiny 2\n",
    "\n",
    "## Notes to consider:\n",
    "- **Please note that the user MUST input the exact name of the game title from Steam.**\n",
    "\n",
    "- **If the data that the bot outputs doesn't correlate with the steamcharts website then restart your notebook and try again.**\n",
    "\n",
    "- **This project requires 'requests' and 'numpy'**"
   ]
  },
  {
   "cell_type": "code",
   "execution_count": null,
   "metadata": {
    "scrolled": true
   },
   "outputs": [],
   "source": [
    "from my_module.SteamChart_functions import *\n",
    "#from my_module import classes as SteamClass\n",
    "\n",
    "#from time import sleep\n",
    "#from random import randint\n",
    "#from requests import get"
   ]
  },
  {
   "cell_type": "code",
   "execution_count": null,
   "metadata": {},
   "outputs": [],
   "source": [
    "have_a_chat()"
   ]
  },
  {
   "cell_type": "markdown",
   "metadata": {},
   "source": [
    "#### Extra Credit (*optional*)\n",
    "\n",
    "Replace all of this text with a brief explanation (~3 sentences) of: \n",
    "1. I had no Python experience before taking this course. I have had experience taking courses in C++ at my community college and Java in high-school.\n",
    "2. I learned how to do web scraping which is something that wasn't taught throughout the quarter. It was difficult to figure out how to extract the data I wanted to use for the chat bot. The most difficult part though was being able to scrape through multiple pages and accurately scraping the data needed from each page."
   ]
  }
 ],
 "metadata": {
  "kernelspec": {
   "display_name": "Python 3",
   "language": "python",
   "name": "python3"
  },
  "language_info": {
   "codemirror_mode": {
    "name": "ipython",
    "version": 3
   },
   "file_extension": ".py",
   "mimetype": "text/x-python",
   "name": "python",
   "nbconvert_exporter": "python",
   "pygments_lexer": "ipython3",
   "version": "3.7.4"
  }
 },
 "nbformat": 4,
 "nbformat_minor": 2
}
